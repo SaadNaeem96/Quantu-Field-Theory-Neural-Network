{
 "cells": [
  {
   "cell_type": "markdown",
   "metadata": {},
   "source": [
    "# Define variables J, z, s,t"
   ]
  },
  {
   "cell_type": "code",
   "execution_count": 45,
   "metadata": {},
   "outputs": [
    {
     "name": "stdout",
     "output_type": "stream",
     "text": [
      "[0.01 0.02 0.03 0.04 0.05 0.06 0.07 0.08 0.09 0.1  0.11 0.12 0.13 0.14\n",
      " 0.15 0.16 0.17 0.18 0.19 0.2  0.21 0.22 0.23 0.24 0.25 0.26 0.27 0.28\n",
      " 0.29 0.3  0.31 0.32 0.33 0.34 0.35 0.36 0.37 0.38 0.39 0.4  0.41 0.42\n",
      " 0.43 0.44 0.45 0.46 0.47 0.48 0.49 0.5  0.51 0.52 0.53 0.54 0.55 0.56\n",
      " 0.57 0.58 0.59 0.6  0.61 0.62 0.63 0.64 0.65 0.66 0.67 0.68 0.69 0.7\n",
      " 0.71 0.72 0.73 0.74 0.75 0.76 0.77 0.78 0.79 0.8  0.81 0.82 0.83 0.84\n",
      " 0.85 0.86 0.87 0.88 0.89 0.9  0.91 0.92 0.93 0.94 0.95 0.96 0.97 0.98] [ 0.  2.  4.  6.  8. 10. 12. 14. 16. 18. 20. 22. 24. 26. 28. 30. 32. 34.\n",
      " 36. 38. 40. 42. 44. 46. 48. 50. 52. 54. 56. 58. 60. 62. 64. 66. 68. 70.\n",
      " 72. 74. 76. 78. 80. 82. 84. 86. 88. 90. 92. 94. 96. 98.]\n",
      "(4900,)\n"
     ]
    }
   ],
   "source": [
    "import numpy as np\n",
    "import math\n",
    "import tensorflow as tf\n",
    "\n",
    "z = np.arange(0.01,0.99,1/100)\n",
    "N = len(z)\n",
    "J = np.arange(0,100,2.0)\n",
    "print(z,J)\n",
    "\n",
    "\n",
    "print(np.kron(J,z).shape)"
   ]
  },
  {
   "cell_type": "code",
   "execution_count": 2,
   "metadata": {},
   "outputs": [],
   "source": [
    "# generate random floating point values for s and t and F\n",
    "# S and T\n",
    "from random import seed\n",
    "from random import random\n",
    "import array as arr\n",
    "#random number generator for s\n",
    "seed(1)\n",
    "s = arr.array('f')\n",
    "t = arr.array('f')\n",
    "    # generate random numbers between 0-1\n",
    "for _ in range(10):\n",
    "    #make s\n",
    "    value_s = random()\n",
    "    value_s = -1 + (value_s * (0 +1))\n",
    "    s.append(value_s)\n",
    "    #make t given restriction with s\n",
    "    value_t = - value_s - 1 - 0.01    \n",
    "    t.append(value_t)\n",
    "    #loop throygh s, and add t sch that it satisifes s+t < -1\n",
    "\n",
    "#generate random momentum transfers t E (-1,0)\n",
    "seed(1)\n",
    "t_individual = arr.array('f')\n",
    "# generate random numbers between 0-1\n",
    "for _ in range(100):\n",
    "    value = random()\n",
    "    value = -1 + (value * (0 +1))\n",
    "    t_individual.append(value)\n",
    "    "
   ]
  },
  {
   "cell_type": "markdown",
   "metadata": {},
   "source": [
    "# # Define functions to be used in loss function"
   ]
  },
  {
   "cell_type": "code",
   "execution_count": 3,
   "metadata": {},
   "outputs": [],
   "source": [
    "###Calculate M given array of z and J, for specific points (s,t)\n",
    "import scipy\n",
    "import scipy.integrate as integrate\n",
    "from scipy.integrate import quad\n",
    "import scipy.special\n",
    "\n",
    "\n",
    "def Mst_Mts(s,t,z,J):\n",
    "    return (M_withoutF(s,t,z,J) - M_withoutF(t,s,z,J))/N\n",
    "\n",
    "def M_withoutF(s,t,z,J):   # use eq 2.6\n",
    "    sum = 0\n",
    "    A= []\n",
    "    B = []\n",
    "    for j in range(len(J)):\n",
    "        for Z in z:\n",
    "            a = 2/math.pi\n",
    "            b = a*Z\n",
    "            c = b*(1+Z*t)*(2+Z*t)\n",
    "            d = c*np.array(P_J(1+2*Z*t, j))\n",
    "            e = (1-Z*t)*(1+Z*(s+t))*s*(s+t)\n",
    "            sum += d/e\n",
    "            B.append(sum)\n",
    "       # A.append(B)\n",
    "    B= np.array(B)\n",
    "    #A2 = np.array(A)\n",
    "    return B\n",
    "\n",
    "def P_J(x, J):\n",
    "    #A =[]\n",
    "    #for j in range(len(J)):\n",
    "    B = scipy.special.lpmv(0, J, x)\n",
    "    C = 16*math.pi*(2*J +1)\n",
    "    D = C*B\n",
    "    return D\n",
    "\n",
    "def Gamma(z):\n",
    "    return scipy.special.gamma(z)\n",
    "\n",
    "def hypergeometric(a,b,c,d):\n",
    "    return scipy.special.hyp2f1(a,b,c,d)"
   ]
  },
  {
   "cell_type": "code",
   "execution_count": 4,
   "metadata": {},
   "outputs": [],
   "source": [
    "### K^(alpha)\n",
    "###input = array of t_i, J_j and m_j\n",
    "#Y sums over j, K sums over i.\n",
    "def K_alpha(t, J, z):\n",
    "    sum = 0\n",
    "    k = []\n",
    "    for j2 in J[0:]:\n",
    "        for z2 in z[0:]:\n",
    "            \n",
    "            A = (-2*t/math.pi)\n",
    "            B = A*z2\n",
    "            C = B*(2 +t*z2)\n",
    "            D = C*(P_J(1+2*z2*t, j2))\n",
    "            sum = D\n",
    "            k.append(sum)\n",
    "            sum = 0\n",
    "    \n",
    "    return k"
   ]
  },
  {
   "cell_type": "code",
   "execution_count": 5,
   "metadata": {},
   "outputs": [],
   "source": [
    "def K_Beta(J,z):\n",
    "    sum =0\n",
    "    A = []\n",
    "    for j in J:\n",
    "        for Z in z:\n",
    "            sum += (-4/math.pi)*Z**(2)*P_J(1,j)\n",
    "            A.append(sum/N)\n",
    "        \n",
    "    return A"
   ]
  },
  {
   "cell_type": "markdown",
   "metadata": {},
   "source": [
    "# Use functions above to make arrays to be used in loss function# "
   ]
  },
  {
   "cell_type": "code",
   "execution_count": 6,
   "metadata": {},
   "outputs": [
    {
     "name": "stdout",
     "output_type": "stream",
     "text": [
      "17030.613411678987\n"
     ]
    }
   ],
   "source": [
    "#Make Mst - mts array with s and t as scalars\n",
    "# Making s and t tuples to loop over Mst_Mts function \n",
    "#X = tf.stack([z, J], axis=1)\n",
    "\n",
    "a = np.transpose(s)\n",
    "b = np.transpose(t)\n",
    "M=[]\n",
    "for i in s[0:]:\n",
    "    for j in t[0:]:\n",
    "        M.append(Mst_Mts(i,j,z,J))\n",
    "        #break    \n",
    "        \n",
    "M= np.array(M)   \n",
    "M =tf.convert_to_tensor(M, tf.float64)\n",
    "print(np.max(M))"
   ]
  },
  {
   "cell_type": "code",
   "execution_count": 7,
   "metadata": {},
   "outputs": [
    {
     "name": "stdout",
     "output_type": "stream",
     "text": [
      "159.41835639657864\n"
     ]
    }
   ],
   "source": [
    "K_A = []\n",
    "for t1 in t_individual[0:]:\n",
    "    value = K_alpha(t1,J,z)\n",
    "    #should be appending vectors\n",
    "    K_A.append(value)\n",
    "K_A= np.array(K_A)\n",
    "K_A =tf.convert_to_tensor(K_A, tf.float64)\n",
    "print(np.max(K_A))"
   ]
  },
  {
   "cell_type": "code",
   "execution_count": 8,
   "metadata": {},
   "outputs": [
    {
     "name": "stdout",
     "output_type": "stream",
     "text": [
      "-0.0006399999999999999\n"
     ]
    }
   ],
   "source": [
    "K_B = K_Beta(J,z)\n",
    "K_B= np.array(K_B)\n",
    "K_B = np.transpose(K_B)\n",
    "K_B =tf.convert_to_tensor(K_B, tf.float64)\n",
    "print(np.max(K_B))\n",
    "\n"
   ]
  },
  {
   "cell_type": "code",
   "execution_count": 9,
   "metadata": {},
   "outputs": [],
   "source": [
    "G = 6.67430*(10**(-11))\n",
    "\n",
    "# def custom_loss(layer):\n",
    "#     #y_true = F\n",
    "#     #y_pred does nothing, only there to make keras work \n",
    "#     def Custom_Loss_Function(y_true, y_pred):\n",
    "#         #defie 8*PI*G \n",
    "#         G = 6.67430*(10**(-11))\n",
    "#         c  = 8*math.pi*G\n",
    "#         alpha = 1\n",
    "#         beta = 10\n",
    "\n",
    "#         # first term\n",
    "#         Mf = tf.tensordot(M, y_true, axes=1)\n",
    "#         sum1 = 0\n",
    "#         for i in Mf[0:]:\n",
    "#             sum1 += i**2\n",
    "\n",
    "\n",
    "#         #second term\n",
    "#         Ka = tf.tensordot(K_A, y_true, axes = 1)\n",
    "#         sum2 = 0\n",
    "#         for j in Ka[0:]:\n",
    "#             sum2 += (j - c)**2\n",
    "\n",
    "#         #third term\n",
    "#         Kb = tf.tensordot(K_B, y_true, axes = 1)\n",
    "#         sum3 = Kb\n",
    "\n",
    "#         value = sum1 + alpha*sum2 +beta*sum3\n",
    "#         value = int(value)\n",
    "#         return value\n",
    "    \n",
    "#     return Custom_Loss_Function"
   ]
  },
  {
   "cell_type": "code",
   "execution_count": 10,
   "metadata": {},
   "outputs": [],
   "source": [
    "\n",
    "# def Custom_Loss_Function(y_true, y_pred):\n",
    "\n",
    "#     #defie 8*PI*G \n",
    "#     G = 6.67430*(10**(-11))\n",
    "#     c  = 8*math.pi*G\n",
    "#     alpha = 1\n",
    "#     beta = 10\n",
    "\n",
    "#     # first term\n",
    "#     Mf = tf.tensordot(M, y_true, axes=1)\n",
    "#     Mf = np.array(tf.unstack(Mf, num=None, axis=0))\n",
    "\n",
    "#     sum1 = 0\n",
    "#     for i in Mf[0:]:\n",
    "#         sum1 +=i**2\n",
    "\n",
    "#     #second term\n",
    "#     Ka = tf.tensordot(K_A, y_true, axes = 1)\n",
    "#     Ka = np.array(tf.unstack(Ka, num=None, axis=0))\n",
    "\n",
    "#     sum2 = 0\n",
    "#     for j in Ka[0:]:\n",
    "#         sum2 += (j - c)**2\n",
    "\n",
    "#     #third term\n",
    "#     sum3 = 0\n",
    "#     Kb = tf.tensordot(K_B, y_true, axes = 1)\n",
    "#     sum3 = Kb\n",
    "\n",
    "#     value = sum1 + alpha*sum2 +beta*sum3\n",
    "    \n",
    "#     return value\n"
   ]
  },
  {
   "cell_type": "code",
   "execution_count": 41,
   "metadata": {},
   "outputs": [],
   "source": [
    "\n",
    "def Custom_Loss_Function(y_true, y_pred):\n",
    "    \n",
    "    with open('file.txt', 'a') as f:\n",
    "        f.write(str(y_pred))\n",
    "    \n",
    "    print(y_pred)\n",
    "    #defie 8*PI*G = 1        !!!!!!!!!!!!!!!!!!!!!!!!!!!!!!!!!!!!!!!!\n",
    "    G = 6.67430*(10**(-11)) \n",
    "    c  = 8*math.pi*G # 1\n",
    "    alpha = 1\n",
    "    beta = 10\n",
    "#     y_pred.set_shape([50,1])    \n",
    "#     y_pred = tf.unstack(y_pred)\n",
    "    \n",
    "    # first term\n",
    "    Mf = tf.tensordot(M, y_pred, axes=1)\n",
    "    \n",
    "    Mf = tf.square(Mf)\n",
    "    sum1 = tf.reduce_sum(Mf)\n",
    "   \n",
    "    \n",
    "    \n",
    "    #second term\n",
    "    Ka = tf.tensordot(K_A, y_pred, axes=1)\n",
    "    sum2 = 0.0\n",
    "    Ka = Ka - c\n",
    "    Ka = tf.square(Ka)\n",
    "    sum2 = tf.reduce_sum(Ka)\n",
    "    \n",
    "\n",
    "    #third term\n",
    "    sum3 = 0.0\n",
    "    Kb = tf.tensordot(K_B, y_pred, axes=1)\n",
    "    sum3 = Kb\n",
    "    \n",
    "    value = sum1 + alpha*sum2 +beta*sum3\n",
    "    return value\n"
   ]
  },
  {
   "cell_type": "code",
   "execution_count": 42,
   "metadata": {},
   "outputs": [
    {
     "name": "stdout",
     "output_type": "stream",
     "text": [
      "tf.Tensor(\n",
      "[1. 1. 1. 1. 1. 1. 1. 1. 1. 1. 1. 1. 1. 1. 1. 1. 1. 1. 1. 1. 1. 1. 1. 1.\n",
      " 1. 1. 1. 1. 1. 1. 1. 1. 1. 1. 1. 1. 1. 1. 1. 1. 1. 1. 1. 1. 1. 1. 1. 1.\n",
      " 1. 1.], shape=(50,), dtype=float64) (50,)\n",
      "tf.Tensor(226909850005.17917, shape=(), dtype=float64)\n"
     ]
    }
   ],
   "source": [
    "# # #testing Custom_Loss_Function\n",
    "# F = np.ones(50,)\n",
    "# F = tf.convert_to_tensor(F, tf.float64)\n",
    "# print(Custom_Loss_Function(F, F))"
   ]
  },
  {
   "cell_type": "code",
   "execution_count": 38,
   "metadata": {},
   "outputs": [],
   "source": [
    "# A = [1,2]\n",
    "# B = [3,4]\n",
    "# print(tf.tensordot(A,B, axes =1) )\n",
    "\n",
    "# from keras import backend as K\n",
    "# A = tf.keras.layers.Dot(axes=1)([A, B])\n",
    "# print(A)"
   ]
  },
  {
   "cell_type": "code",
   "execution_count": null,
   "metadata": {},
   "outputs": [],
   "source": [
    "# A = [1,2]\n",
    "# B= [2,3]\n",
    "# print(tf.tensordot(A,B, axes=0))\n",
    "# print(np.dot(A,B))"
   ]
  },
  {
   "cell_type": "code",
   "execution_count": 46,
   "metadata": {},
   "outputs": [
    {
     "data": {
      "text/plain": [
       "True"
      ]
     },
     "execution_count": 46,
     "metadata": {},
     "output_type": "execute_result"
    }
   ],
   "source": [
    "-3.5900e+03 < 0"
   ]
  },
  {
   "cell_type": "code",
   "execution_count": null,
   "metadata": {},
   "outputs": [],
   "source": []
  }
 ],
 "metadata": {
  "kernelspec": {
   "display_name": "Python 3",
   "language": "python",
   "name": "python3"
  },
  "language_info": {
   "codemirror_mode": {
    "name": "ipython",
    "version": 3
   },
   "file_extension": ".py",
   "mimetype": "text/x-python",
   "name": "python",
   "nbconvert_exporter": "python",
   "pygments_lexer": "ipython3",
   "version": "3.8.3"
  }
 },
 "nbformat": 4,
 "nbformat_minor": 4
}
