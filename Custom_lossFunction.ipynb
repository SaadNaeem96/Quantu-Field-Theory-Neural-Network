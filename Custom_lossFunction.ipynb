{
 "cells": [
  {
   "cell_type": "markdown",
   "metadata": {},
   "source": [
    "# Define variables J, z, s,t"
   ]
  },
  {
   "cell_type": "code",
   "execution_count": 21,
   "metadata": {},
   "outputs": [
    {
     "name": "stdout",
     "output_type": "stream",
     "text": [
      "[ 0.  2.  4.  6.  8. 10. 12. 14. 16. 18. 20. 22. 24. 26. 28. 30. 32. 34.\n",
      " 36. 38. 40. 42. 44. 46. 48. 50. 52. 54. 56. 58. 60. 62. 64. 66. 68. 70.\n",
      " 72. 74. 76. 78. 80. 82. 84. 86. 88. 90. 92. 94. 96. 98.]\n",
      "4900\n"
     ]
    }
   ],
   "source": [
    "import numpy as np\n",
    "import math\n",
    "import tensorflow as tf\n",
    "from sklearn.preprocessing import MinMaxScaler\n",
    "\n",
    "\n",
    "z = np.arange(0.01,0.99,1/100)\n",
    "N = len(z)\n",
    "J = np.arange(0,100,2.0)\n",
    "print(J)\n",
    "print(np.kron(J,z).shape[0])"
   ]
  },
  {
   "cell_type": "code",
   "execution_count": 2,
   "metadata": {},
   "outputs": [],
   "source": [
    "# generate random floating point values for s and t and F\n",
    "# S and T\n",
    "from random import seed\n",
    "from random import random\n",
    "import array as arr\n",
    "#random number generator for s\n",
    "seed(1)\n",
    "s = arr.array('f')\n",
    "t = arr.array('f')\n",
    "    # generate random numbers between 0-1\n",
    "for _ in range(100):\n",
    "    #make s\n",
    "    value_s = random()\n",
    "    value_s = -1 + (value_s * (0 +1))\n",
    "    s.append(value_s)\n",
    "    \n",
    "    #make t given restriction with s\n",
    "    value_t = np.random.uniform(low=-value_s-1, high=0)\n",
    "    t.append(value_t)\n",
    "    #loop throygh s, and add t sch that it satisifes s+t < -1\n",
    "s = np.array(s)\n",
    "t = np.array(t)\n",
    "\n",
    "#generate random momentum transfers t E (-1,0)\n",
    "seed(1)\n",
    "t_individual = arr.array('f')\n",
    "# generate random numbers between 0-1\n",
    "for _ in range(100):\n",
    "    value = random()\n",
    "    value = -1 + (value * (0 +1))\n",
    "    t_individual.append(value)\n"
   ]
  },
  {
   "cell_type": "markdown",
   "metadata": {},
   "source": [
    "# Define test set of variables J, z, s,t"
   ]
  },
  {
   "cell_type": "code",
   "execution_count": 3,
   "metadata": {},
   "outputs": [],
   "source": [
    "# z = np.arange(0.01,0.99,1/1000)\n",
    "# N = len(z)\n",
    "# J = np.arange(0,1000,2.0)\n",
    "# print(z,J)\n",
    "# X = [[j, Z] for Z in z for j in J]\n",
    "\n",
    "# X = np.array(X)\n",
    "# print(X.shape)"
   ]
  },
  {
   "cell_type": "markdown",
   "metadata": {},
   "source": [
    "# Define validation set of variables J, z, s,t"
   ]
  },
  {
   "cell_type": "code",
   "execution_count": null,
   "metadata": {},
   "outputs": [],
   "source": []
  },
  {
   "cell_type": "markdown",
   "metadata": {},
   "source": [
    "# # Define functions to be used in loss function"
   ]
  },
  {
   "cell_type": "code",
   "execution_count": 14,
   "metadata": {},
   "outputs": [],
   "source": [
    "###Calculate M given array of z and J, for specific points (s,t)\n",
    "import scipy\n",
    "import scipy.integrate as integrate\n",
    "from scipy.integrate import quad\n",
    "import scipy.special\n",
    "\n",
    "\n",
    "def Mst_Mts(s,t,z,J):\n",
    "    return (M_withoutF(s,t,z,J) - M_withoutF(t,s,z,J))/N\n",
    "\n",
    "def M_withoutF(s,t,z,J):   # use eq 2.6\n",
    "    sum = 0\n",
    "    A= []\n",
    "    B = []\n",
    "    for j in range(len(J)):\n",
    "        for Z in z:\n",
    "            a = 2/math.pi\n",
    "            b = a*Z\n",
    "            c = b*(1+Z*t)*(2+Z*t)\n",
    "            d = c*np.array(P_J(1+2*Z*t, j))\n",
    "            e = (1-Z*t)*(1+Z*(s+t))*s*(s+t)\n",
    "            sum += d/e\n",
    "            B.append(sum)\n",
    "       # A.append(B)\n",
    "    B= np.array(B)\n",
    "    #A2 = np.array(A)\n",
    "    return B\n",
    "\n",
    "def P_J(x, J):\n",
    "    #A =[]\n",
    "    #for j in range(len(J)):\n",
    "    B = scipy.special.lpmv(0, J, x)\n",
    "    C = 16*math.pi*(2*J +1)\n",
    "    D = C*B\n",
    "    return D\n",
    "\n",
    "def Gamma(z):\n",
    "    return scipy.special.gamma(z)\n",
    "\n",
    "def hypergeometric(a,b,c,d):\n",
    "    return scipy.special.hyp2f1(a,b,c,d)"
   ]
  },
  {
   "cell_type": "code",
   "execution_count": 15,
   "metadata": {},
   "outputs": [],
   "source": [
    "### K^(alpha)\n",
    "###input = array of t_i, J_j and m_j\n",
    "#Y sums over j, K sums over i.\n",
    "def K_alpha(t, J, z):\n",
    "    sum = 0\n",
    "    k = []\n",
    "    for j2 in J[0:]:\n",
    "        for z2 in z[0:]:\n",
    "            \n",
    "            A = (-2*t/math.pi)\n",
    "            B = A*z2\n",
    "            C = B*(2 +t*z2)\n",
    "            D = C*(P_J(1+2*z2*t, j2))\n",
    "            sum = D\n",
    "            k.append(sum)\n",
    "            sum = 0\n",
    "    \n",
    "    return k"
   ]
  },
  {
   "cell_type": "code",
   "execution_count": 17,
   "metadata": {},
   "outputs": [],
   "source": [
    "def K_Beta(J,z):\n",
    "    sum =0\n",
    "    A = []\n",
    "    for j in J:\n",
    "        for Z in z:\n",
    "            sum += (4/math.pi)*Z**(3)*P_J(1,j)\n",
    "            A.append(sum/N)\n",
    "        \n",
    "    return A"
   ]
  },
  {
   "cell_type": "markdown",
   "metadata": {},
   "source": [
    "# Use functions above to make arrays to be used in loss function# "
   ]
  },
  {
   "cell_type": "code",
   "execution_count": 18,
   "metadata": {},
   "outputs": [
    {
     "name": "stdout",
     "output_type": "stream",
     "text": [
      "451466.9527584393\n"
     ]
    }
   ],
   "source": [
    "#Make Mst - mts array with s and t as scalars\n",
    "# Making s and t tuples to loop over Mst_Mts function \n",
    "#X = tf.stack([z, J], axis=1)\n",
    "\n",
    "a = np.transpose(s)\n",
    "b = np.transpose(t)\n",
    "M=[]\n",
    "#s0t0, s1t1, s2t2 ..\n",
    "for i in range(len(s)):\n",
    "    M.append(Mst_Mts(s[i],t[i],z,J))    \n",
    "\n",
    "    \n",
    "# for i in s[0:]:\n",
    "#     for j in t[0:]:\n",
    "#         print(i, j)\n",
    "#         M.append(Mst_Mts(i,j,z,J))    \n",
    "        \n",
    "M= np.array(M)   \n",
    "M =tf.convert_to_tensor(M, tf.float64)\n",
    "print(np.max(M))"
   ]
  },
  {
   "cell_type": "code",
   "execution_count": 19,
   "metadata": {},
   "outputs": [
    {
     "name": "stdout",
     "output_type": "stream",
     "text": [
      "868.3139844818685\n"
     ]
    }
   ],
   "source": [
    "K_A = []\n",
    "for t1 in t_individual[0:]:\n",
    "    value = K_alpha(t1,J,z)\n",
    "    #should be appending vectors\n",
    "    K_A.append(value)\n",
    "K_A= np.array(K_A)\n",
    "K_A =tf.convert_to_tensor(K_A, tf.float64)\n",
    "print(np.max(K_A))"
   ]
  },
  {
   "cell_type": "code",
   "execution_count": 20,
   "metadata": {},
   "outputs": [
    {
     "name": "stdout",
     "output_type": "stream",
     "text": [
      "76071.44159999996\n"
     ]
    }
   ],
   "source": [
    "K_B = K_Beta(J,z)\n",
    "K_B= np.array(K_B)\n",
    "K_B = np.transpose(K_B)\n",
    "K_B =tf.convert_to_tensor(K_B, tf.float64)\n",
    "print(np.max(K_B))\n",
    "\n"
   ]
  },
  {
   "cell_type": "code",
   "execution_count": 10,
   "metadata": {},
   "outputs": [],
   "source": [
    "def Custom_Loss_Function(y_true, y_pred):\n",
    "    \n",
    "    y_pred = y_pred+0.1\n",
    "           \n",
    "    c  = 1 \n",
    "    alpha = 10**6\n",
    "    beta = 10**2\n",
    "\n",
    "    # first term\n",
    "    Mf = tf.tensordot(M, y_pred, axes=1)\n",
    "    \n",
    "    Mf = tf.square(Mf)\n",
    "    sum1 = tf.reduce_sum(Mf)\n",
    "    \n",
    "    sum1 = sum1/451466.9527584393\n",
    "   \n",
    "    \n",
    "    \n",
    "    #second term\n",
    "    Ka = tf.tensordot(K_A, y_pred, axes=1)\n",
    "    sum2 = 0.0\n",
    "    Ka = Ka - c\n",
    "    Ka = tf.square(Ka)\n",
    "    sum2 = tf.reduce_sum(Ka)\n",
    "    sum2 = sum2 /868.3139844818685\n",
    "    \n",
    "\n",
    "    #third term\n",
    "    sum3 = 0.0\n",
    "    Kb = tf.tensordot(K_B, y_pred, axes=1)\n",
    "    sum3 = Kb\n",
    "    sum3 = sum3/76071.44159999996\n",
    "    sum3 = sum3\n",
    "    \n",
    "    value = sum1 + alpha*sum2 -beta*sum3 \n",
    "\n",
    "    return value"
   ]
  },
  {
   "cell_type": "code",
   "execution_count": 11,
   "metadata": {},
   "outputs": [
    {
     "name": "stdout",
     "output_type": "stream",
     "text": [
      "tf.Tensor(9.839157930888297e+17, shape=(), dtype=float64)\n"
     ]
    }
   ],
   "source": [
    "# # #testing Custom_Loss_Function\n",
    "F = np.ones(4900,)\n",
    "print(Custom_Loss_Function(F, F))"
   ]
  },
  {
   "cell_type": "code",
   "execution_count": null,
   "metadata": {},
   "outputs": [],
   "source": []
  }
 ],
 "metadata": {
  "kernelspec": {
   "display_name": "Python 3",
   "language": "python",
   "name": "python3"
  },
  "language_info": {
   "codemirror_mode": {
    "name": "ipython",
    "version": 3
   },
   "file_extension": ".py",
   "mimetype": "text/x-python",
   "name": "python",
   "nbconvert_exporter": "python",
   "pygments_lexer": "ipython3",
   "version": "3.8.3"
  }
 },
 "nbformat": 4,
 "nbformat_minor": 4
}
