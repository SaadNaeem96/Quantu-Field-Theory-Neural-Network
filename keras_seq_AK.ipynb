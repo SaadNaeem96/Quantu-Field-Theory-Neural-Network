{
 "cells": [
  {
   "cell_type": "markdown",
   "metadata": {},
   "source": [
    "# Importing libraries and loss function"
   ]
  },
  {
   "cell_type": "code",
   "execution_count": 1,
   "metadata": {},
   "outputs": [
    {
     "name": "stdout",
     "output_type": "stream",
     "text": [
      "importing Jupyter notebook from Custom_lossFunction_AK.ipynb\n",
      "Shape of z is (98,), while shape of J is (50,)\n"
     ]
    }
   ],
   "source": [
    "import import_ipynb\n",
    "from Custom_lossFunction_AK import *\n",
    "import pandas\n",
    "import tensorflow.keras as keras\n",
    "from tensorflow.keras.models import Sequential\n",
    "from tensorflow.keras.layers import Dense\n",
    "from tensorflow.keras import Input\n",
    "from tensorflow.keras import Model\n",
    "from tensorflow.keras.wrappers.scikit_learn import KerasRegressor\n",
    "from sklearn.model_selection import cross_val_score\n",
    "from sklearn.model_selection import KFold\n",
    "from sklearn.preprocessing import StandardScaler\n",
    "from sklearn.pipeline import Pipeline\n",
    "from tensorflow.keras.layers import concatenate\n",
    "import numpy\n",
    "from tensorflow.keras.utils import plot_model\n",
    "import tensorflow as tf\n",
    "from sklearn.preprocessing import MinMaxScaler\n",
    "from tensorflow.keras import layers\n",
    "tf.keras.backend.set_floatx('float64')\n",
    "from tensorflow.keras.callbacks import ModelCheckpoint\n",
    "\n",
    "import tensorflow as tf\n",
    "from tensorflow.keras import initializers\n",
    "from tensorflow.keras import datasets, layers, models, Input\n",
    "import matplotlib.pyplot as plt\n",
    "import json\n",
    "from tensorflow.keras.callbacks import LambdaCallback"
   ]
  },
  {
   "cell_type": "markdown",
   "metadata": {},
   "source": [
    "# Initializing X, Y"
   ]
  },
  {
   "cell_type": "code",
   "execution_count": 2,
   "metadata": {},
   "outputs": [],
   "source": [
    "#X is a 2d array with elements (j,Z). We expect this to be a [len(J)*len(z),2]\n",
    "X = [[indexJ, indexz] for indexJ in J for indexz in z]\n",
    "X = np.array(X)\n",
    "\n",
    "#Initiate target data with appropriate dimensions: len(z)*len(J)\n",
    "Y=np.arange(len(z)*len(J))\n",
    "\n",
    "# Generate s,t\n",
    "datasetST01=generateST(100)\n",
    "datasetST02=generateST(100)\n",
    "\n",
    "#Loss function coefficients: [c, \\alpha, \\beta]\n",
    "lossCoef=[1, 10**2, 10**3]"
   ]
  },
  {
   "cell_type": "markdown",
   "metadata": {},
   "source": [
    "# Model Settings and Initialization"
   ]
  },
  {
   "cell_type": "markdown",
   "metadata": {},
   "source": [
    "Keras model information can be found at https://www.tensorflow.org/api_docs/python/tf/keras/Model"
   ]
  },
  {
   "cell_type": "markdown",
   "metadata": {},
   "source": [
    "Compiler attributes: https://www.tensorflow.org/api_docs/python/tf/keras/Model#compile"
   ]
  },
  {
   "cell_type": "code",
   "execution_count": 3,
   "metadata": {},
   "outputs": [],
   "source": [
    "#Initiate model and sets initial input shape\n",
    "model = models.Sequential()\n",
    "model.add(Input(shape=(2)))\n",
    "\n",
    "# Neuron layers\n",
    "model.add(layers.Dense(5, activation='relu', kernel_initializer=initializers.RandomNormal(stddev=0.1)))\n",
    "model.add(layers.Dense(3, activation='relu', kernel_initializer=initializers.RandomNormal(stddev=0.1)))\n",
    "model.add(layers.Dense(1, activation='sigmoid', kernel_initializer=initializers.RandomNormal(stddev=0.4))) #make sure its between 0 and 1\n",
    "\n",
    "#Callback function\n",
    "print_weights = LambdaCallback(on_epoch_end=lambda batch, logs: print(model.layers[0].get_weights()))\n",
    "#Add \"callbacks = [print_weights]\" as an option in model.fit if needed\n",
    "\n",
    "#NN learning parameters\n",
    "lr_schedule = keras.optimizers.schedules.ExponentialDecay(\n",
    "    initial_learning_rate=0.01,\n",
    "    decay_steps=2000,\n",
    "    decay_rate=0.9)\n",
    "opt = keras.optimizers.Adagrad(learning_rate=lr_schedule)\n",
    "\n",
    "# Compile model subject to parameters above\n",
    "model.compile(optimizer =opt, loss=Custom_Loss_Function(inp=[[J,z], datasetST01, lossCoef]), metrics=['accuracy'])"
   ]
  },
  {
   "cell_type": "markdown",
   "metadata": {},
   "source": [
    "Fit function instructions: https://www.tensorflow.org/api_docs/python/tf/keras/Model#fit"
   ]
  },
  {
   "cell_type": "code",
   "execution_count": 69,
   "metadata": {},
   "outputs": [],
   "source": [
    "# Run model fit with progress info\n",
    "#history_callback = model.fit(X, Y, epochs=5000, batch_size=np.kron(J,z).shape[0], verbose=1 , shuffle = False, callbacks = [print_weights])\n",
    "#loss_history = history_callback.history[\"loss\"]"
   ]
  },
  {
   "cell_type": "code",
   "execution_count": 4,
   "metadata": {},
   "outputs": [],
   "source": [
    "# Run model fit without showing progress\n",
    "history_callback = model.fit(X, Y, epochs=5000, batch_size=np.kron(J,z).shape[0], verbose=0 , shuffle = False)\n",
    "loss_history = history_callback.history[\"loss\"]"
   ]
  },
  {
   "cell_type": "markdown",
   "metadata": {},
   "source": [
    "# Tests"
   ]
  },
  {
   "cell_type": "markdown",
   "metadata": {},
   "source": [
    "## Plotting & Loss analysis"
   ]
  },
  {
   "cell_type": "code",
   "execution_count": 5,
   "metadata": {},
   "outputs": [
    {
     "data": {
      "image/png": "[encoded data removed]",
      "text/plain": [
       "<Figure size 432x288 with 1 Axes>"
      ]
     },
     "metadata": {
      "needs_background": "light"
     },
     "output_type": "display_data"
    }
   ],
   "source": [
    "# Generate (z,X) to be plotted. Recall that z=1/m^2 and therefore plotting the inverse of z \n",
    "# is physically easier to interpret\n",
    "plotZvar = np.arange(0.01,0.99,1/200)\n",
    "X11 = [[0, indexZ] for indexZ in plotZvar]\n",
    "X22 = [[2, indexZ] for indexZ in plotZvar]\n",
    "X33 = [[4, indexZ] for indexZ in plotZvar]\n",
    "X44 = [[10, indexZ] for indexZ in plotZvar]\n",
    "X55 = [[16, indexZ] for indexZ in plotZvar]\n",
    "X66 = [[20, indexZ] for indexZ in plotZvar]\n",
    "plotm = 1/plotZvar\n",
    "\n",
    "# Apply fit result to X's above\n",
    "plt.plot(plotm, model.predict(X11),color = 'r' )\n",
    "plt.plot(plotm, model.predict(X22), color = 'b')\n",
    "plt.plot(plotm, model.predict(X33),color = 'g')\n",
    "plt.plot(plotm, model.predict(X44),color = 'y')\n",
    "plt.plot(plotm, model.predict(X55))\n",
    "plt.plot(plotm, model.predict(X66))\n",
    "plt.xlabel(\"m^2\")\n",
    "plt.ylabel(\"F\")\n",
    "plt.legend(['Spin-0','Spin-2','Spin-4','Spin-10','Spin-16','Spin-20'])\n",
    "#plt.savefig('Weights/0.1/plt.png')\n",
    "plt.show()"
   ]
  },
  {
   "cell_type": "code",
   "execution_count": 12,
   "metadata": {},
   "outputs": [
    {
     "name": "stdout",
     "output_type": "stream",
     "text": [
      "['3.378401e+26', '1.569758e+06', '2.204100e+06']\n"
     ]
    }
   ],
   "source": [
    "#Create array of [sum1, sum2, sum3]\n",
    "print([\"{:2e}\".format(crossing_Symmetry_Square(M, model.predict(X)).numpy()), \"{:2e}\".format(einstein_Gravity_Min(K_A, model.predict(X),1).numpy()), \"{:2e}\".format(tf.tensordot(K_B, model.predict(X), axes=1).numpy()[0])])"
   ]
  },
  {
   "cell_type": "code",
   "execution_count": null,
   "metadata": {},
   "outputs": [],
   "source": [
    "['1.150905e+11', '4.307767e+07', '1.214264e+08'"
   ]
  },
  {
   "cell_type": "markdown",
   "metadata": {},
   "source": [
    "## Saving and Loading"
   ]
  },
  {
   "cell_type": "markdown",
   "metadata": {},
   "source": [
    "Save function: https://www.tensorflow.org/api_docs/python/tf/keras/Model#save <br>\n",
    "Model format: Either 'tf' or 'h5', indicating whether to save the model to Tensorflow SavedModel or HDF5. Defaults to 'tf' in TF 2.X, and 'h5' in TF 1.X. <br>\n",
    "Save weights' function: https://www.tensorflow.org/api_docs/python/tf/keras/Model#save_weights"
   ]
  },
  {
   "cell_type": "code",
   "execution_count": null,
   "metadata": {},
   "outputs": [],
   "source": [
    "# Saving test\n",
    "print(model.predict(X).shape)\n",
    "#a_file = open(\"Weights/0.1/F.txt\", \"w\")\n",
    "#for row in model.predict(X):\n",
    "#np.savetxt(a_file, model.predict(X))\n",
    "#a_file.close()\n",
    "\n",
    "model.save(\"test/random/mymodel\", overwrite=True, include_optimizer=True, save_traces=True)\n",
    "model.save_weights(\"test/random/mymodel_weights\", overwrite=True)"
   ]
  },
  {
   "cell_type": "markdown",
   "metadata": {},
   "source": [
    "Loading models with custom loss functions containing additional non-conventional arguments: https://github.com/keras-team/keras/issues/5916#issuecomment-294373616 <br>\n",
    "<br>\n",
    "See also this article: https://medium.com/@Bloomore/how-to-write-a-custom-loss-function-with-additional-arguments-in-keras-5f193929f7a0"
   ]
  },
  {
   "cell_type": "code",
   "execution_count": null,
   "metadata": {},
   "outputs": [],
   "source": [
    "# model = load_model('model.h5', custom_objects={'loss': keras_output_loss})"
   ]
  },
  {
   "cell_type": "markdown",
   "metadata": {},
   "source": [
    "# Systematic Analysis"
   ]
  },
  {
   "cell_type": "markdown",
   "metadata": {},
   "source": [
    "## Initializer stddev"
   ]
  },
  {
   "cell_type": "code",
   "execution_count": null,
   "metadata": {},
   "outputs": [],
   "source": [
    "stddevList=np.array([0.5,0.4,0.3,0.2,0.1,0.01])\n",
    "modelFilenameList=[\"stddev/test1/model_std05\",\"stddev/test1/model_std04\",\"stddev/test1/model_std03\",\"stddev/test1/model_std02\",\"stddev/test1/model_std01\",\"stddev/test1/model_std001\"]\n",
    "weightsFilenameList=[\"stddev/test1/weights_std05\",\"stddev/test1/weights_std04\",\"stddev/test1/weights_std03\",\"stddev/test1/weights_std02\",\"stddev/test1/weights_std01\",\"stddev/test1/weights_std001\"]\n",
    "\n",
    "for ind in range(len(stddevList)):\n",
    "    # (Re-)Initiate model\n",
    "    model = models.Sequential()\n",
    "    model.add(Input(shape=(2)))\n",
    "    \n",
    "    # Neuron layers\n",
    "    model.add(layers.Dense(5, activation='relu', kernel_initializer=initializers.RandomNormal(stddev=stddevList[[ind]])))\n",
    "    model.add(layers.Dense(3, activation='relu', kernel_initializer=initializers.RandomNormal(stddev=0.1)))\n",
    "    model.add(layers.Dense(1, activation='sigmoid', kernel_initializer=initializers.RandomNormal(stddev=0.4))) #make sure its between 0 and 1\n",
    "    \n",
    "    #NN learning parameters\n",
    "    lr_schedule = keras.optimizers.schedules.ExponentialDecay(\n",
    "        initial_learning_rate=0.01,\n",
    "        decay_steps=2000,\n",
    "        decay_rate=0.9)\n",
    "    opt = keras.optimizers.Adagrad(learning_rate=lr_schedule)\n",
    "\n",
    "    # Compile model subject to parameters above\n",
    "    model.compile(optimizer =opt, loss=Custom_Loss_Function, metrics=['accuracy'])\n",
    "    \n",
    "    # Run model fit\n",
    "    history_callback = model.fit(X, Y, epochs=5000, batch_size=np.kron(J,z).shape[0], verbose=0 , shuffle = False)\n",
    "\n",
    "    # Save model and data\n",
    "    model.save(modelFilenameList[ind], overwrite=True, include_optimizer=True, save_traces=True)\n",
    "    model.save_weights(weightsFilenameList[ind], overwrite=True)"
   ]
  },
  {
   "cell_type": "code",
   "execution_count": null,
   "metadata": {},
   "outputs": [],
   "source": [
    "modelFilenameList[0]"
   ]
  },
  {
   "cell_type": "code",
   "execution_count": null,
   "metadata": {},
   "outputs": [],
   "source": []
  }
 ],
 "metadata": {
  "kernelspec": {
   "display_name": "Python 3",
   "language": "python",
   "name": "python3"
  },
  "language_info": {
   "codemirror_mode": {
    "name": "ipython",
    "version": 3
   },
   "file_extension": ".py",
   "mimetype": "text/x-python",
   "name": "python",
   "nbconvert_exporter": "python",
   "pygments_lexer": "ipython3",
   "version": "3.8.8"
  }
 },
 "nbformat": 4,
 "nbformat_minor": 4
}
