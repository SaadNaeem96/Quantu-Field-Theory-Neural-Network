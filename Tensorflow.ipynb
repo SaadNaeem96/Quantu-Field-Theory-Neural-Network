{
 "cells": [
  {
   "cell_type": "code",
   "execution_count": 47,
   "metadata": {
    "scrolled": true
   },
   "outputs": [
    {
     "name": "stdout",
     "output_type": "stream",
     "text": [
      "[0.01 0.11 0.21 0.31 0.41 0.51 0.61 0.71 0.81 0.91]\n"
     ]
    }
   ],
   "source": [
    "import numpy as np\n",
    "z = np.arange(0.01,0.99,1/10)\n",
    "J = np.arange(0,10,2.0)\n",
    "print(z)"
   ]
  },
  {
   "cell_type": "code",
   "execution_count": 3,
   "metadata": {},
   "outputs": [],
   "source": [
    "# generate random floating point values for s and t and F\n",
    "# S and T\n",
    "from random import seed\n",
    "from random import random\n",
    "import array as arr\n",
    "#random number generator for s\n",
    "seed(1)\n",
    "s = arr.array('f')\n",
    "t = arr.array('f')\n",
    "    # generate random numbers between 0-1\n",
    "for _ in range(10):\n",
    "    #make s\n",
    "    value_s = random()\n",
    "    value_s = -1 + (value_s * (0 +1))\n",
    "    s.append(value_s)\n",
    "    #make t given restriction with s\n",
    "    value_t = - value_s - 1 - 0.01    ############################################################################ - 0.01 to satisfy <\n",
    "    t.append(value_t)\n",
    "    #loop throygh s, and add t sch that it satisifes s+t < -1\n",
    "\n",
    "\n",
    "#random number generator for F . prollh dont nreed\n",
    "seed(1)\n",
    "F = arr.array('f')\n",
    "for _ in range(10):\n",
    "    value = random()\n",
    "    F.append(value)\n",
    "    \n",
    "      \n",
    "#generate random momentum transfers t E (-1,0)\n",
    "seed(1)\n",
    "t_individual = arr.array('f')\n",
    "# generate random numbers between 0-1\n",
    "for _ in range(100):\n",
    "    value = random()\n",
    "    value = -1 + (value * (0 +1))\n",
    "    t_individual.append(value)\n",
    "\n",
    "    \n",
    "    "
   ]
  },
  {
   "cell_type": "code",
   "execution_count": 32,
   "metadata": {},
   "outputs": [],
   "source": [
    "###Calculate M given array of z and J, for specific points (s,t)\n",
    "import scipy\n",
    "import scipy.integrate as integrate\n",
    "from scipy.integrate import quad\n",
    "import scipy.special\n",
    "\n",
    "\n",
    "\n",
    "def Mst_Mts(s,t,z,J):\n",
    "    return (M_withoutF(s,t,z,J) - M_withoutF(t,s,z,J))/N\n",
    "\n",
    "def M_withoutF(s,t,z,J):   # use eq 2.6\n",
    "    sum = 0\n",
    "    for j in J:\n",
    "        for Z in z:\n",
    "            a = 2/math.pi\n",
    "            b = a*z\n",
    "            c = b*(1+z*t)*(2+z*t)\n",
    "            print(c)\n",
    "            d = c*np.array(P_J(1+2*Z*t, J))\n",
    "            e = (1-z*t)*(1+z*(s+t))*s*(s+t)\n",
    "            sum += d/e\n",
    "    return sum\n",
    "\n",
    "def P_J(x, J):\n",
    "    A =[]\n",
    "    for j in J:\n",
    "        B = scipy.special.lpmv(0, j, z)\n",
    "        C = 16*math.pi*(2*j +1)\n",
    "        D = C*np.array(C)\n",
    "        A = np.append(A, scipy.special.lpmv(0, j, x))\n",
    "    return A\n",
    "\n",
    "def Gamma(z):\n",
    "    return scipy.special.gamma(z)\n",
    "\n",
    "def hypergeometric(a,b,c,d):\n",
    "    return scipy.special.hyp2f1(a,b,c,d)\n",
    "\n",
    "# def P_J(x, J):\n",
    "#     dummy =  ((4*math.pi)**2)*(4 +(2*J) -3)\n",
    "#     b = Gamma(J+1.0)\n",
    "#     d0 = 1*b #gamma(1) = 1\n",
    "#     d1 = math.pi*d0\n",
    "#     D2 = (Gamma(1+J))/d1\n",
    "#     d3 = dummy*D2\n",
    "#     A =d3*hypergeometric(-J, J+1, 0, (1-x)/2)\n",
    "    \n",
    "#     return A\n",
    "    #return (((4*math.pi)^(2)*(4 +2*J -3)*(Gamma(1+J)))/(math.pi*Gamma(1)*Gamma(J+1)))*hypergeometric(-J, J+1, 0, (1-x)/2)\n",
    "\n",
    "    \n",
    "    # def Gamma(z):\n",
    "#     integrand = lambda x: x**(z-1)*math.exp(-x)\n",
    "#     I = quad(integrand, 0, np.inf) \n",
    "#     print(I[0])\n",
    "#     return I[0]\n",
    "\n",
    "    \n",
    "# def hypergeometric(a,b,c,d):\n",
    "    \n",
    "#     sum =0\n",
    "#     for n in range (a):\n",
    "#         sum +=  (-1**n) *scipy.special.comb(a, n) *  ((math.factorial(b))/(math.factorial(c)))* d**n\n",
    "#     return sum\n"
   ]
  },
  {
   "cell_type": "code",
   "execution_count": 33,
   "metadata": {},
   "outputs": [],
   "source": [
    "### K^(alpha)\n",
    "###input = array of t_i, J_j and m_j\n",
    "#Y sums over j, K sums over i.\n",
    "def K_alpha(t, J, z):\n",
    "    sum = 0\n",
    "    for j in range(0, N, 1):\n",
    "        for i in range(t):\n",
    "            sum = (-2*i/math.pi)*(2+i+z[j])*P_J(1+2*z[j]*i)\n",
    "    \n",
    "    return sum/N\n",
    "# add y in cost function"
   ]
  },
  {
   "cell_type": "code",
   "execution_count": 34,
   "metadata": {},
   "outputs": [],
   "source": [
    "def K_Beta(J,z):\n",
    "    sum =0\n",
    "    for Z in z:\n",
    "            sum += (-4/math.pi)*Z**(2)*P_J(1,J)\n",
    "    return sum/N"
   ]
  },
  {
   "cell_type": "code",
   "execution_count": 36,
   "metadata": {},
   "outputs": [
    {
     "name": "stdout",
     "output_type": "stream",
     "text": [
      "[0.01311691 0.18966431 0.45941284 0.83764138 1.3396288  1.98065398\n",
      " 2.7759958  3.74093312 4.89074482 6.24070978]\n"
     ]
    },
    {
     "ename": "ValueError",
     "evalue": "operands could not be broadcast together with shapes (10,) (5,) ",
     "output_type": "error",
     "traceback": [
      "\u001b[1;31m---------------------------------------------------------------------------\u001b[0m",
      "\u001b[1;31mValueError\u001b[0m                                Traceback (most recent call last)",
      "\u001b[1;32m<ipython-input-36-8fa5dfddc6fe>\u001b[0m in \u001b[0;36m<module>\u001b[1;34m\u001b[0m\n\u001b[1;32m----> 1\u001b[1;33m \u001b[0mA\u001b[0m \u001b[1;33m=\u001b[0m \u001b[0mM_withoutF\u001b[0m\u001b[1;33m(\u001b[0m\u001b[1;36m1\u001b[0m\u001b[1;33m,\u001b[0m\u001b[1;36m2\u001b[0m\u001b[1;33m,\u001b[0m\u001b[0mz\u001b[0m\u001b[1;33m,\u001b[0m\u001b[0mJ\u001b[0m\u001b[1;33m)\u001b[0m\u001b[1;33m\u001b[0m\u001b[1;33m\u001b[0m\u001b[0m\n\u001b[0m",
      "\u001b[1;32m<ipython-input-32-6b4d3cee6b93>\u001b[0m in \u001b[0;36mM_withoutF\u001b[1;34m(s, t, z, J)\u001b[0m\n\u001b[0;32m     18\u001b[0m             \u001b[0mc\u001b[0m \u001b[1;33m=\u001b[0m \u001b[0mb\u001b[0m\u001b[1;33m*\u001b[0m\u001b[1;33m(\u001b[0m\u001b[1;36m1\u001b[0m\u001b[1;33m+\u001b[0m\u001b[0mz\u001b[0m\u001b[1;33m*\u001b[0m\u001b[0mt\u001b[0m\u001b[1;33m)\u001b[0m\u001b[1;33m*\u001b[0m\u001b[1;33m(\u001b[0m\u001b[1;36m2\u001b[0m\u001b[1;33m+\u001b[0m\u001b[0mz\u001b[0m\u001b[1;33m*\u001b[0m\u001b[0mt\u001b[0m\u001b[1;33m)\u001b[0m\u001b[1;33m\u001b[0m\u001b[1;33m\u001b[0m\u001b[0m\n\u001b[0;32m     19\u001b[0m             \u001b[0mprint\u001b[0m\u001b[1;33m(\u001b[0m\u001b[0mc\u001b[0m\u001b[1;33m)\u001b[0m\u001b[1;33m\u001b[0m\u001b[1;33m\u001b[0m\u001b[0m\n\u001b[1;32m---> 20\u001b[1;33m             \u001b[0md\u001b[0m \u001b[1;33m=\u001b[0m \u001b[0mc\u001b[0m\u001b[1;33m*\u001b[0m\u001b[0mnp\u001b[0m\u001b[1;33m.\u001b[0m\u001b[0marray\u001b[0m\u001b[1;33m(\u001b[0m\u001b[0mP_J\u001b[0m\u001b[1;33m(\u001b[0m\u001b[1;36m1\u001b[0m\u001b[1;33m+\u001b[0m\u001b[1;36m2\u001b[0m\u001b[1;33m*\u001b[0m\u001b[0mZ\u001b[0m\u001b[1;33m*\u001b[0m\u001b[0mt\u001b[0m\u001b[1;33m,\u001b[0m \u001b[0mJ\u001b[0m\u001b[1;33m)\u001b[0m\u001b[1;33m)\u001b[0m\u001b[1;33m\u001b[0m\u001b[1;33m\u001b[0m\u001b[0m\n\u001b[0m\u001b[0;32m     21\u001b[0m             \u001b[0me\u001b[0m \u001b[1;33m=\u001b[0m \u001b[1;33m(\u001b[0m\u001b[1;36m1\u001b[0m\u001b[1;33m-\u001b[0m\u001b[0mz\u001b[0m\u001b[1;33m*\u001b[0m\u001b[0mt\u001b[0m\u001b[1;33m)\u001b[0m\u001b[1;33m*\u001b[0m\u001b[1;33m(\u001b[0m\u001b[1;36m1\u001b[0m\u001b[1;33m+\u001b[0m\u001b[0mz\u001b[0m\u001b[1;33m*\u001b[0m\u001b[1;33m(\u001b[0m\u001b[0ms\u001b[0m\u001b[1;33m+\u001b[0m\u001b[0mt\u001b[0m\u001b[1;33m)\u001b[0m\u001b[1;33m)\u001b[0m\u001b[1;33m*\u001b[0m\u001b[0ms\u001b[0m\u001b[1;33m*\u001b[0m\u001b[1;33m(\u001b[0m\u001b[0ms\u001b[0m\u001b[1;33m+\u001b[0m\u001b[0mt\u001b[0m\u001b[1;33m)\u001b[0m\u001b[1;33m\u001b[0m\u001b[1;33m\u001b[0m\u001b[0m\n\u001b[0;32m     22\u001b[0m             \u001b[0msum\u001b[0m \u001b[1;33m+=\u001b[0m \u001b[0md\u001b[0m\u001b[1;33m/\u001b[0m\u001b[0me\u001b[0m\u001b[1;33m\u001b[0m\u001b[1;33m\u001b[0m\u001b[0m\n",
      "\u001b[1;31mValueError\u001b[0m: operands could not be broadcast together with shapes (10,) (5,) "
     ]
    }
   ],
   "source": [
    "\n",
    "A = M_withoutF(1,2,z,J)\n"
   ]
  },
  {
   "cell_type": "markdown",
   "metadata": {},
   "source": [
    "# NN STARTS HERE\n"
   ]
  },
  {
   "cell_type": "code",
   "execution_count": null,
   "metadata": {},
   "outputs": [],
   "source": [
    "from __future__ import absolute_import, division, print_function\n",
    "#from LossFunction_Functions import *  \n",
    "#from LossFunction_Functions import M_withoutF, P_J, Gamma, hypergeometric, K_alpha, K_Beta"
   ]
  },
  {
   "cell_type": "code",
   "execution_count": 33,
   "metadata": {},
   "outputs": [],
   "source": [
    "import tensorflow as tf\n",
    "import numpy as np\n",
    "rng = np.random"
   ]
  },
  {
   "cell_type": "code",
   "execution_count": 34,
   "metadata": {},
   "outputs": [],
   "source": [
    "# Parameters.\n",
    "learning_rate = 0.01\n",
    "training_steps = 1000\n",
    "display_step = 50"
   ]
  },
  {
   "cell_type": "code",
   "execution_count": 36,
   "metadata": {},
   "outputs": [
    {
     "name": "stdout",
     "output_type": "stream",
     "text": [
      "10\n",
      "(10, 5, 2)\n",
      "tf.Tensor(\n",
      "[[[0.01 0.  ]\n",
      "  [0.01 2.  ]\n",
      "  [0.01 4.  ]\n",
      "  [0.01 6.  ]\n",
      "  [0.01 8.  ]]\n",
      "\n",
      " [[0.11 0.  ]\n",
      "  [0.11 2.  ]\n",
      "  [0.11 4.  ]\n",
      "  [0.11 6.  ]\n",
      "  [0.11 8.  ]]\n",
      "\n",
      " [[0.21 0.  ]\n",
      "  [0.21 2.  ]\n",
      "  [0.21 4.  ]\n",
      "  [0.21 6.  ]\n",
      "  [0.21 8.  ]]\n",
      "\n",
      " [[0.31 0.  ]\n",
      "  [0.31 2.  ]\n",
      "  [0.31 4.  ]\n",
      "  [0.31 6.  ]\n",
      "  [0.31 8.  ]]\n",
      "\n",
      " [[0.41 0.  ]\n",
      "  [0.41 2.  ]\n",
      "  [0.41 4.  ]\n",
      "  [0.41 6.  ]\n",
      "  [0.41 8.  ]]\n",
      "\n",
      " [[0.51 0.  ]\n",
      "  [0.51 2.  ]\n",
      "  [0.51 4.  ]\n",
      "  [0.51 6.  ]\n",
      "  [0.51 8.  ]]\n",
      "\n",
      " [[0.61 0.  ]\n",
      "  [0.61 2.  ]\n",
      "  [0.61 4.  ]\n",
      "  [0.61 6.  ]\n",
      "  [0.61 8.  ]]\n",
      "\n",
      " [[0.71 0.  ]\n",
      "  [0.71 2.  ]\n",
      "  [0.71 4.  ]\n",
      "  [0.71 6.  ]\n",
      "  [0.71 8.  ]]\n",
      "\n",
      " [[0.81 0.  ]\n",
      "  [0.81 2.  ]\n",
      "  [0.81 4.  ]\n",
      "  [0.81 6.  ]\n",
      "  [0.81 8.  ]]\n",
      "\n",
      " [[0.91 0.  ]\n",
      "  [0.91 2.  ]\n",
      "  [0.91 4.  ]\n",
      "  [0.91 6.  ]\n",
      "  [0.91 8.  ]]], shape=(10, 5, 2), dtype=float64)\n"
     ]
    }
   ],
   "source": [
    "# Training Data.\n",
    "print(len(z))\n",
    "#X = tf.stack([z, J], axis=1)\n",
    "\n",
    "a = np.transpose(z)\n",
    "b = np.transpose(J)\n",
    "\n",
    "tile_a = tf.tile(tf.expand_dims(a, 1), [1, tf.shape(b)[0]])  \n",
    "tile_a = tf.expand_dims(tile_a, 2) \n",
    "tile_b = tf.tile(tf.expand_dims(b, 0), [tf.shape(a)[0], 1]) \n",
    "tile_b = tf.expand_dims(tile_b, 2) \n",
    "\n",
    "cartesian_product = tf.concat([tile_a, tile_b], axis=2) \n",
    "\n",
    "\n",
    "\n",
    "print(cartesian_product.shape) \n",
    "#print(cartesian_product) \n",
    "print(cartesian_product)\n"
   ]
  },
  {
   "cell_type": "code",
   "execution_count": null,
   "metadata": {},
   "outputs": [],
   "source": [
    "array = np.array(cart)\n",
    "A = []\n",
    "for i in array:\n",
    "    B = []\n",
    "    B.append(i[0])\n",
    "    B.append(i[1])\n",
    "    A.append(B)\n",
    "    \n",
    "np.array(A)\n",
    "for x in A:\n",
    "    c = Mst_Mts(x[0],x[1],z,J)\n",
    "    \n",
    "Y = []\n",
    "for t in t_individual:\n",
    "    value = K_alpha(t, J,z)\n",
    "    Y.append(value)\n",
    "\n",
    "\n",
    "\n"
   ]
  },
  {
   "cell_type": "code",
   "execution_count": null,
   "metadata": {},
   "outputs": [],
   "source": [
    "G = 6.67430*(10**(-11))\n",
    "KB = K_Beta(J,z)\n",
    "def Loss_Function(F):\n",
    "    #loop over F? \n",
    "    #remember squares\n",
    "    #check if * is indeed dot produc for matriess\n",
    "    sum = Mst-mts*F + alpha(Y*F -8*pi*G) - beta(KB*F)"
   ]
  },
  {
   "cell_type": "code",
   "execution_count": 38,
   "metadata": {},
   "outputs": [
    {
     "name": "stdout",
     "output_type": "stream",
     "text": [
      "<tf.Variable 'weight:0' shape=() dtype=float32, numpy=-0.41776407>\n",
      "<tf.Variable 'bias:0' shape=() dtype=float32, numpy=-1.0033813>\n"
     ]
    }
   ],
   "source": [
    "# Weight and Bias, initialized randomly.\n",
    "W = tf.Variable(rng.randn(), name=\"weight\", )\n",
    "b = tf.Variable(rng.randn(), name=\"bias\")\n",
    "print(W)\n",
    "print(b)\n",
    "# Linear regression (Wx + b).\n",
    "def linear_regression(x):\n",
    "    return W * x + b\n",
    "\n",
    "\n",
    "# Stochastic Gradient Descent Optimizer.\n",
    "optimizer = tf.optimizers.SGD(learning_rate)"
   ]
  },
  {
   "cell_type": "code",
   "execution_count": null,
   "metadata": {},
   "outputs": [],
   "source": [
    "#cost function\n",
    "st = tf.stack([s,t], axis=1)\n",
    "a = np.transpose(s)\n",
    "b = np.transpose(t)\n",
    "\n",
    "tile_a = tf.tile(tf.expand_dims(a, 1), [1, tf.shape(b)[0]])  \n",
    "tile_a = tf.expand_dims(tile_a, 2) \n",
    "tile_b = tf.tile(tf.expand_dims(b, 0), [tf.shape(a)[0], 1]) \n",
    "tile_b = tf.expand_dims(tile_b, 2) \n",
    "cart = tf.concat([tile_a, tile_b], axis=2) \n",
    "cart = tf.reshape(cart,[-1,2])\n",
    "for x in tf.tuple(cart):\n",
    "    print(x)\n",
    "    \n",
    "#print(tf.tuple(cart))\n",
    "# for x in cart:\n",
    "#     tf.print(cart)"
   ]
  },
  {
   "cell_type": "code",
   "execution_count": null,
   "metadata": {},
   "outputs": [],
   "source": [
    "def cost_function(F):\n",
    "    #Make matrix \n",
    "    A = []\n",
    "    for x in tf.tuple(cart):\n",
    "        a = Mst_Mts(*(x),z,J)\n",
    "        A.append(a)\n",
    "    "
   ]
  },
  {
   "cell_type": "code",
   "execution_count": null,
   "metadata": {},
   "outputs": [],
   "source": [
    "# Optimization process. \n",
    "def run_optimization():\n",
    "    # Wrap computation inside a GradientTape for automatic differentiation.\n",
    "    with tf.GradientTape() as g:\n",
    "        pred = linear_regression(X)\n",
    "        loss = loss_fuction(pred) #!!!!!!!!!!!!!!!!!!!!!!!!!!!!!!!!!!!!!!!!!!!!!!!!!!!!!!!!!!!!!!!!!!!!!!!!!!!!!!!!!!!!!!!!!!!!!!!^^^^^^^^^^&&&&&&&****(($$$$$$))\n",
    "\n",
    "    # Compute gradients.\n",
    "    gradients = g.gradient(loss, [W, b])\n",
    "    \n",
    "    # Update W and b following gradients.\n",
    "    optimizer.apply_gradients(zip(gradients, [W, b]))"
   ]
  },
  {
   "cell_type": "code",
   "execution_count": null,
   "metadata": {},
   "outputs": [],
   "source": [
    "# Run training for the given number of steps.\n",
    "for step in range(1, training_steps + 1):\n",
    "    # Run the optimization to update W and b values.\n",
    "    run_optimization()\n",
    "    \n",
    "    if step % display_step == 0:\n",
    "        pred = linear_regression(X)\n",
    "        loss = loss_fuction(pred) #!!!!!!!!!!!!!!!!!!!!!!!!!!!!!!!!!!!!!!!!!!!!!!!!!!!!!!!!!!!!!!!!!!!!!!!!!!!!!!!!!!!!!!!!!!!!!!!^^^^^^^^^^&&&&&&&****(($$$$$$))\n",
    "        print(\"step: %i, loss: %f, W: %f, b: %f\" % (step, loss, W.numpy(), b.numpy()))\n"
   ]
  },
  {
   "cell_type": "code",
   "execution_count": null,
   "metadata": {},
   "outputs": [],
   "source": [
    "import matplotlib.pyplot as plt\n",
    "# Graphic display\n",
    "plt.plot(X, Y, 'ro', label='Original data')\n",
    "plt.plot(X, np.array(W * X + b), label='Fitted line')\n",
    "plt.legend()\n",
    "plt.show()"
   ]
  },
  {
   "cell_type": "code",
   "execution_count": null,
   "metadata": {},
   "outputs": [],
   "source": []
  },
  {
   "cell_type": "code",
   "execution_count": null,
   "metadata": {},
   "outputs": [],
   "source": [
    "%%capture\n",
    "%run LossFunction_Functions .ipynb"
   ]
  },
  {
   "cell_type": "code",
   "execution_count": null,
   "metadata": {},
   "outputs": [],
   "source": []
  },
  {
   "cell_type": "code",
   "execution_count": null,
   "metadata": {},
   "outputs": [],
   "source": []
  }
 ],
 "metadata": {
  "kernelspec": {
   "display_name": "Python 3",
   "language": "python",
   "name": "python3"
  },
  "language_info": {
   "codemirror_mode": {
    "name": "ipython",
    "version": 3
   },
   "file_extension": ".py",
   "mimetype": "text/x-python",
   "name": "python",
   "nbconvert_exporter": "python",
   "pygments_lexer": "ipython3",
   "version": "3.7.3"
  }
 },
 "nbformat": 4,
 "nbformat_minor": 4
}
