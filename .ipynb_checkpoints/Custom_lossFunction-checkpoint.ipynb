{
 "cells": [
  {
   "cell_type": "markdown",
   "metadata": {},
   "source": [
    "# Define variables J, z"
   ]
  },
  {
   "cell_type": "code",
   "execution_count": 1,
   "metadata": {
    "scrolled": true
   },
   "outputs": [
    {
     "name": "stdout",
     "output_type": "stream",
     "text": [
      "[ 0.  2.  4.  6.  8. 10. 12. 14. 16. 18. 20. 22. 24. 26. 28. 30. 32. 34.\n",
      " 36. 38. 40. 42. 44. 46. 48. 50. 52. 54. 56. 58. 60. 62. 64. 66. 68. 70.\n",
      " 72. 74. 76. 78. 80. 82. 84. 86. 88. 90. 92. 94. 96. 98.]\n",
      "4900\n"
     ]
    }
   ],
   "source": [
    "import numpy as np\n",
    "import math\n",
    "import tensorflow as tf\n",
    "from sklearn.preprocessing import MinMaxScaler\n",
    "\n",
    "\n",
    "z = np.arange(0.01,0.99,1/100)\n",
    "N = len(z)\n",
    "J = np.arange(0,100,2.0)\n",
    "print(J)\n",
    "print(np.kron(J,z).shape[0])\n"
   ]
  },
  {
   "cell_type": "markdown",
   "metadata": {},
   "source": [
    "# Define variables s,t"
   ]
  },
  {
   "cell_type": "code",
   "execution_count": 2,
   "metadata": {},
   "outputs": [],
   "source": [
    "# generate random floating point values for s and t and F\n",
    "# S and T\n",
    "from random import seed\n",
    "from random import random\n",
    "import array as arr\n",
    "#random number generator for s\n",
    "seed(1)\n",
    "s = arr.array('f')\n",
    "t = arr.array('f')\n",
    "    # generate random numbers between 0-1\n",
    "for _ in range(200):\n",
    "    #make s\n",
    "    value_s = random()\n",
    "    value_s = -1 + (value_s * (0 +1))\n",
    "    s.append(value_s)\n",
    "    \n",
    "    #make t given restriction with s\n",
    "    value_t = np.random.uniform(low=-value_s-1, high=0)\n",
    "    t.append(value_t)\n",
    "    #loop throygh s, and add t sch that it satisifes s+t < -1\n",
    "s = np.array(s)\n",
    "t = np.array(t)\n",
    "\n",
    "#generate random momentum transfers t E (-1,0)\n",
    "seed(1)\n",
    "t_individual = arr.array('f')\n",
    "# generate random numbers between 0-1\n",
    "for _ in range(200):\n",
    "    value = random()\n",
    "    value = -1 + (value * (0 +1))\n",
    "    t_individual.append(value)\n"
   ]
  },
  {
   "cell_type": "markdown",
   "metadata": {},
   "source": [
    "# Define test set of variables J, z"
   ]
  },
  {
   "cell_type": "code",
   "execution_count": 3,
   "metadata": {},
   "outputs": [
    {
     "name": "stdout",
     "output_type": "stream",
     "text": [
      "4900\n"
     ]
    }
   ],
   "source": [
    "#add more points\n",
    "# add random distribution, instead of uniform distribution \n",
    "\n",
    "zz = np.arange(0.01,0.99,1/100)\n",
    "\n",
    "JJ = np.arange(0,100,2.0)\n",
    "print(np.kron(JJ,zz).shape[0])\n"
   ]
  },
  {
   "cell_type": "markdown",
   "metadata": {},
   "source": [
    "#Define new s and t for testing  converence "
   ]
  },
  {
   "cell_type": "code",
   "execution_count": 4,
   "metadata": {},
   "outputs": [],
   "source": [
    "seed(0.5)\n",
    "s1 = arr.array('f')\n",
    "t1 = arr.array('f')\n",
    "    # generate random numbers between 0-1\n",
    "for _ in range(200):\n",
    "    #make s\n",
    "    value_s1 = random()\n",
    "    value_s1 = -1 + (value_s1 * (0 +1))\n",
    "    s1.append(value_s1)\n",
    "    \n",
    "    #make t given restriction with s\n",
    "    value_t1 = np.random.uniform(low=-value_s1-1, high=0)\n",
    "    t1.append(value_t1)\n",
    "    #loop throygh s, and add t sch that it satisifes s+t < -1\n",
    "s1 = np.array(s1)\n",
    "t1 = np.array(t1)\n",
    "\n",
    "#generate random momentum transfers t E (-1,0)\n",
    "seed(0.7)\n",
    "t_individual1 = arr.array('f')\n",
    "# generate random numbers between 0-1\n",
    "for _ in range(200):\n",
    "    value1 = random()\n",
    "    value1 = -1 + (value1 * (0 +1))\n",
    "    t_individual1.append(value1)\n"
   ]
  },
  {
   "cell_type": "markdown",
   "metadata": {},
   "source": [
    "# # Define functions to be used in loss function"
   ]
  },
  {
   "cell_type": "code",
   "execution_count": 5,
   "metadata": {},
   "outputs": [],
   "source": [
    "###Calculate M given array of z and J, for specific points (s,t)\n",
    "import scipy\n",
    "import scipy.integrate as integrate\n",
    "from scipy.integrate import quad\n",
    "import scipy.special\n",
    "\n",
    "\n",
    "def Mst_Mts(s,t,z,J):\n",
    "    return (M_withoutF(s,t,z,J) - M_withoutF(t,s,z,J))/N\n",
    "\n",
    "def M_withoutF(s,t,z,J):   # use eq 2.6\n",
    "    sum = 0\n",
    "    A= []\n",
    "    B = []\n",
    "    for j in (J):\n",
    "        for Z in z:\n",
    "            a = 2/math.pi\n",
    "            b = a*Z\n",
    "            c = b*(1+Z*t)*(2+Z*t)\n",
    "            d = c*np.array(P_J(1+2*Z*t, j))\n",
    "            e = (1-Z*t)*(1+Z*(s+t))*s*(s+t)\n",
    "            sum += d/e\n",
    "            B.append(sum)\n",
    "       # A.append(B)\n",
    "    B= np.array(B)\n",
    "    #A2 = np.array(A)\n",
    "    return B\n",
    "\n",
    "def P_J(x, J):\n",
    "    #A =[]\n",
    "    #for j in range(len(J)):\n",
    "    B = scipy.special.lpmv(0, J, x)\n",
    "    C = 16*math.pi*(2*J +1)\n",
    "    D = C*B\n",
    "    return D\n",
    "\n",
    "def Gamma(z):\n",
    "    return scipy.special.gamma(z)\n",
    "\n",
    "def hypergeometric(a,b,c,d):\n",
    "    return scipy.special.hyp2f1(a,b,c,d)"
   ]
  },
  {
   "cell_type": "code",
   "execution_count": 6,
   "metadata": {},
   "outputs": [],
   "source": [
    "### K^(alpha)\n",
    "###input = array of t_i, J_j and m_j\n",
    "#Y sums over j, K sums over i.\n",
    "def K_alpha(t, J, z):\n",
    "    sum = 0\n",
    "    k = []\n",
    "    for j2 in J[0:]:\n",
    "        for z2 in z[0:]:\n",
    "            A = (-2*t/math.pi)\n",
    "            B = A*z2\n",
    "            C = B*(2 +t*z2)\n",
    "            D = C*(P_J(1+2*z2*t, j2))\n",
    "            sum = D\n",
    "            k.append(sum)\n",
    "            sum = 0\n",
    "    \n",
    "    return k"
   ]
  },
  {
   "cell_type": "code",
   "execution_count": 7,
   "metadata": {},
   "outputs": [],
   "source": [
    "def K_Beta(J,z):\n",
    "    sum =0\n",
    "    A = []\n",
    "    for j in J:\n",
    "        for Z in z:\n",
    "            sum = (4/math.pi)*Z**(3)*P_J(1,j)\n",
    "            A.append(sum/N)\n",
    "\n",
    "    return A"
   ]
  },
  {
   "cell_type": "markdown",
   "metadata": {},
   "source": [
    "# Use functions above to make arrays to be used in loss function# "
   ]
  },
  {
   "cell_type": "markdown",
   "metadata": {},
   "source": [
    "# M"
   ]
  },
  {
   "cell_type": "code",
   "execution_count": 8,
   "metadata": {},
   "outputs": [
    {
     "name": "stdout",
     "output_type": "stream",
     "text": [
      "(200, 4900)\n"
     ]
    }
   ],
   "source": [
    "#Make Mst - mts array with s and t as scalars\n",
    "# Making s and t tuples to loop over Mst_Mts function \n",
    "#X = tf.stack([z, J], axis=1)\n",
    "\n",
    "a = np.transpose(s)\n",
    "b = np.transpose(t)\n",
    "M=[]\n",
    "#s0t0, s1t1, s2t2 ..\n",
    "for i in range(len(s)):\n",
    "    M.append(Mst_Mts(s[i],t[i],z,J))    \n",
    "\n",
    "    \n",
    "# for i in s[0:]:\n",
    "#     for j in t[0:]:\n",
    "#         print(i, j)\n",
    "#         M.append(Mst_Mts(i,j,z,J))    \n",
    "        \n",
    "M= np.array(M) \n",
    "M =tf.convert_to_tensor(M, tf.float64)\n",
    "\n",
    "print((M).shape)"
   ]
  },
  {
   "cell_type": "markdown",
   "metadata": {},
   "source": [
    "# M_test (used for testing convergence on s and t)"
   ]
  },
  {
   "cell_type": "code",
   "execution_count": 9,
   "metadata": {},
   "outputs": [],
   "source": [
    "Mtest = []\n",
    "for i in range(len(s1)):\n",
    "    Mtest.append(Mst_Mts(s1[i],t1[i],z,J))    \n",
    "Mtest = np.array(Mtest)\n",
    "Mtest =tf.convert_to_tensor(Mtest, tf.float64)\n"
   ]
  },
  {
   "cell_type": "code",
   "execution_count": 10,
   "metadata": {},
   "outputs": [
    {
     "name": "stdout",
     "output_type": "stream",
     "text": [
      "868.3139844818685\n"
     ]
    }
   ],
   "source": [
    "K_A = []\n",
    "for t1 in t_individual[0:]:\n",
    "    value = K_alpha(t1,J,z)\n",
    "    #should be appending vectors\n",
    "    K_A.append(value)\n",
    "K_A= np.array(K_A)\n",
    "K_A =tf.convert_to_tensor(K_A, tf.float64)\n",
    "print(np.max(K_A))"
   ]
  },
  {
   "cell_type": "code",
   "execution_count": 11,
   "metadata": {},
   "outputs": [
    {
     "name": "stdout",
     "output_type": "stream",
     "text": [
      "121.08723199999997\n"
     ]
    }
   ],
   "source": [
    "K_B = K_Beta(J,z)\n",
    "K_B= np.array(K_B)\n",
    "K_B = np.transpose(K_B)\n",
    "K_B =tf.convert_to_tensor(K_B, tf.float64)\n",
    "print(np.max(K_B))"
   ]
  },
  {
   "cell_type": "markdown",
   "metadata": {},
   "source": [
    "# This function iterates thorugh a given matrix M and returns submatrices of it. For future proejct"
   ]
  },
  {
   "cell_type": "code",
   "execution_count": 40,
   "metadata": {},
   "outputs": [],
   "source": [
    "# def iterateM():\n",
    "#     #take first 4900 columns\n",
    "#     global M\n",
    "#     A = M[0:100,:]\n",
    "#     #delete  first 4900 columns\n",
    "#     M =np.delete(M, slice(0, 100, 1), 0)\n",
    "#     # add  first 4900 columns to the end\n",
    "#     M = np.vstack((M,A))\n",
    "#     #return original 4900 columns\n",
    "#     return A    "
   ]
  },
  {
   "cell_type": "code",
   "execution_count": 41,
   "metadata": {},
   "outputs": [],
   "source": [
    "#maybe make a large M initially, but take a subsampple evey turn\n",
    "#mke another nn model "
   ]
  },
  {
   "cell_type": "code",
   "execution_count": 52,
   "metadata": {},
   "outputs": [],
   "source": [
    "def crossing_Symmetry_Square(M, y_pred):\n",
    "\n",
    "    Mf = tf.tensordot(M, y_pred, axes=1)\n",
    "    Mf = tf.square(Mf)\n",
    "    print(Mf.shape)\n",
    "    return tf.reduce_sum(Mf)\n",
    "\n",
    "def einstein_Gravity_Min(K_A, y_pred, constant):\n",
    "    Ka = tf.tensordot(K_A, y_pred, axes=1)\n",
    "    Ka = Ka - constant\n",
    "    Ka = tf.square(Ka)\n",
    "    return tf.reduce_sum(Ka)\n",
    "\n",
    "def Custom_Loss_Function(y_true, y_pred):  \n",
    "    #evalaute y_pred at different s and t, and save the loss to a txt file\n",
    "    Custom_Loss_Function_convergeTest(y_pred) \n",
    "            \n",
    "    c  = 1 \n",
    "    alpha = 10**5\n",
    "    beta = 10**3\n",
    "    # first term\n",
    "    sum1 = crossing_Symmetry_Square(M, y_pred)\n",
    "   \n",
    "    #second term\n",
    "    sum2 = einstein_Gravity_Min(K_A, y_pred, c)\n",
    "   \n",
    "    #third term\n",
    "    Kb = tf.tensordot(K_B, y_pred, axes=1)\n",
    "    sum3 = Kb\n",
    "    \n",
    "    value = sum1 + alpha*sum2 -beta*sum3 \n",
    "\n",
    "    return value"
   ]
  },
  {
   "cell_type": "code",
   "execution_count": 58,
   "metadata": {},
   "outputs": [],
   "source": [
    "def Custom_Loss_Function_convergeTest(y_pred):   \n",
    "#Create array of [sum1, sum2, sum3]\n",
    "    \n",
    "    c  = 1 \n",
    "    alpha = 10**5\n",
    "    beta = 10**3\n",
    "    sum11 = crossing_Symmetry_Square(Mtest,y_pred)\n",
    "    sum22 = einstein_Gravity_Min(K_A, y_pred,c)\n",
    "    sum33 = tf.tensordot(K_B, y_pred, axes=1)\n",
    "    value = sum11 + alpha*sum22 -beta*sum33 \n",
    "    value = value.numpy()\n",
    "    \n",
    "    file = open('1/testloss.csv','a')\n",
    "    file.write(str(value.item()) +'\\n')\n",
    "    file.close()\n"
   ]
  },
  {
   "cell_type": "code",
   "execution_count": 59,
   "metadata": {},
   "outputs": [
    {
     "name": "stdout",
     "output_type": "stream",
     "text": [
      "(200,)\n",
      "(200,)\n"
     ]
    },
    {
     "data": {
      "text/plain": [
       "<tf.Tensor: shape=(), dtype=float64, numpy=1.1011073806383392e+16>"
      ]
     },
     "execution_count": 59,
     "metadata": {},
     "output_type": "execute_result"
    }
   ],
   "source": [
    "F = np.ones(4900)\n",
    "F =tf.convert_to_tensor(F, tf.float64)\n",
    "Custom_Loss_Function(1, F)"
   ]
  },
  {
   "cell_type": "code",
   "execution_count": null,
   "metadata": {},
   "outputs": [],
   "source": []
  }
 ],
 "metadata": {
  "kernelspec": {
   "display_name": "Python 3",
   "language": "python",
   "name": "python3"
  },
  "language_info": {
   "codemirror_mode": {
    "name": "ipython",
    "version": 3
   },
   "file_extension": ".py",
   "mimetype": "text/x-python",
   "name": "python",
   "nbconvert_exporter": "python",
   "pygments_lexer": "ipython3",
   "version": "3.8.3"
  }
 },
 "nbformat": 4,
 "nbformat_minor": 4
}
